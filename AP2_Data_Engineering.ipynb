{
  "cells": [
    {
      "cell_type": "code",
      "execution_count": null,
      "id": "c148388b",
      "metadata": {
        "id": "c148388b"
      },
      "outputs": [],
      "source": [
        "import pandas as pd\n",
        "import json"
      ]
    },
    {
      "cell_type": "code",
      "execution_count": null,
      "id": "fcdabc62",
      "metadata": {
        "id": "fcdabc62"
      },
      "outputs": [],
      "source": [
        "with open('reddit_jokes.json', 'r') as file:\n",
        "    data = json.load(file)"
      ]
    },
    {
      "cell_type": "code",
      "execution_count": null,
      "id": "5dbd04f2",
      "metadata": {
        "id": "5dbd04f2"
      },
      "outputs": [],
      "source": [
        "df = pd.DataFrame(data)"
      ]
    },
    {
      "cell_type": "code",
      "execution_count": null,
      "id": "d06ba501",
      "metadata": {
        "id": "d06ba501",
        "outputId": "ad4420dc-b02e-42b8-8bba-f41ef58540b3"
      },
      "outputs": [
        {
          "data": {
            "text/html": [
              "<div>\n",
              "<style scoped>\n",
              "    .dataframe tbody tr th:only-of-type {\n",
              "        vertical-align: middle;\n",
              "    }\n",
              "\n",
              "    .dataframe tbody tr th {\n",
              "        vertical-align: top;\n",
              "    }\n",
              "\n",
              "    .dataframe thead th {\n",
              "        text-align: right;\n",
              "    }\n",
              "</style>\n",
              "<table border=\"1\" class=\"dataframe\">\n",
              "  <thead>\n",
              "    <tr style=\"text-align: right;\">\n",
              "      <th></th>\n",
              "      <th>body</th>\n",
              "      <th>id</th>\n",
              "      <th>score</th>\n",
              "      <th>title</th>\n",
              "    </tr>\n",
              "  </thead>\n",
              "  <tbody>\n",
              "    <tr>\n",
              "      <th>0</th>\n",
              "      <td>Now I have to say \"Leroy can you please paint ...</td>\n",
              "      <td>5tz52q</td>\n",
              "      <td>1</td>\n",
              "      <td>I hate how you cant even say black paint anymore</td>\n",
              "    </tr>\n",
              "    <tr>\n",
              "      <th>1</th>\n",
              "      <td>Pizza doesn't scream when you put it in the ov...</td>\n",
              "      <td>5tz4dd</td>\n",
              "      <td>0</td>\n",
              "      <td>What's the difference between a Jew in Nazi Ge...</td>\n",
              "    </tr>\n",
              "    <tr>\n",
              "      <th>2</th>\n",
              "      <td>...and being there really helped me learn abou...</td>\n",
              "      <td>5tz319</td>\n",
              "      <td>0</td>\n",
              "      <td>I recently went to America....</td>\n",
              "    </tr>\n",
              "    <tr>\n",
              "      <th>3</th>\n",
              "      <td>A Sunday school teacher is concerned that his ...</td>\n",
              "      <td>5tz2wj</td>\n",
              "      <td>1</td>\n",
              "      <td>Brian raises his hand and says, “He’s in Heaven.”</td>\n",
              "    </tr>\n",
              "    <tr>\n",
              "      <th>4</th>\n",
              "      <td>He got caught trying to sell the two books to ...</td>\n",
              "      <td>5tz1pc</td>\n",
              "      <td>0</td>\n",
              "      <td>You hear about the University book store worke...</td>\n",
              "    </tr>\n",
              "  </tbody>\n",
              "</table>\n",
              "</div>"
            ],
            "text/plain": [
              "                                                body      id  score  \\\n",
              "0  Now I have to say \"Leroy can you please paint ...  5tz52q      1   \n",
              "1  Pizza doesn't scream when you put it in the ov...  5tz4dd      0   \n",
              "2  ...and being there really helped me learn abou...  5tz319      0   \n",
              "3  A Sunday school teacher is concerned that his ...  5tz2wj      1   \n",
              "4  He got caught trying to sell the two books to ...  5tz1pc      0   \n",
              "\n",
              "                                               title  \n",
              "0   I hate how you cant even say black paint anymore  \n",
              "1  What's the difference between a Jew in Nazi Ge...  \n",
              "2                     I recently went to America....  \n",
              "3  Brian raises his hand and says, “He’s in Heaven.”  \n",
              "4  You hear about the University book store worke...  "
            ]
          },
          "execution_count": 78,
          "metadata": {},
          "output_type": "execute_result"
        }
      ],
      "source": [
        "df.head()"
      ]
    },
    {
      "cell_type": "code",
      "execution_count": null,
      "id": "2fdb7088",
      "metadata": {
        "id": "2fdb7088"
      },
      "outputs": [],
      "source": [
        "import random\n",
        "random.seed(42)"
      ]
    },
    {
      "cell_type": "code",
      "execution_count": null,
      "id": "1aa0bdb9",
      "metadata": {
        "id": "1aa0bdb9",
        "outputId": "e7cba091-79f9-479f-96e8-015c47e0746e"
      },
      "outputs": [
        {
          "data": {
            "text/html": [
              "<div>\n",
              "<style scoped>\n",
              "    .dataframe tbody tr th:only-of-type {\n",
              "        vertical-align: middle;\n",
              "    }\n",
              "\n",
              "    .dataframe tbody tr th {\n",
              "        vertical-align: top;\n",
              "    }\n",
              "\n",
              "    .dataframe thead th {\n",
              "        text-align: right;\n",
              "    }\n",
              "</style>\n",
              "<table border=\"1\" class=\"dataframe\">\n",
              "  <thead>\n",
              "    <tr style=\"text-align: right;\">\n",
              "      <th></th>\n",
              "      <th>body</th>\n",
              "      <th>id</th>\n",
              "      <th>score</th>\n",
              "      <th>title</th>\n",
              "    </tr>\n",
              "  </thead>\n",
              "  <tbody>\n",
              "    <tr>\n",
              "      <th>0</th>\n",
              "      <td>He has the lady go to the back of the car to l...</td>\n",
              "      <td>2ojt3l</td>\n",
              "      <td>0</td>\n",
              "      <td>[Blonde Joke] So this guy's helping a blonde f...</td>\n",
              "    </tr>\n",
              "    <tr>\n",
              "      <th>1</th>\n",
              "      <td>If he says he can do something in the blink of...</td>\n",
              "      <td>2e4djx</td>\n",
              "      <td>1</td>\n",
              "      <td>NEVER challenge a chinese man</td>\n",
              "    </tr>\n",
              "    <tr>\n",
              "      <th>2</th>\n",
              "      <td>A pulse.</td>\n",
              "      <td>418cpp</td>\n",
              "      <td>14</td>\n",
              "      <td>One thing you should always look for in a woman.</td>\n",
              "    </tr>\n",
              "    <tr>\n",
              "      <th>3</th>\n",
              "      <td>THEN\\n\\n**Led Zeppelin - Stairway to Heaven**\\...</td>\n",
              "      <td>3cd3oo</td>\n",
              "      <td>0</td>\n",
              "      <td>Song lyrics, then and now.</td>\n",
              "    </tr>\n",
              "    <tr>\n",
              "      <th>4</th>\n",
              "      <td>then it hit me</td>\n",
              "      <td>2y24uy</td>\n",
              "      <td>5</td>\n",
              "      <td>I wondered why the baseball was getting bigger</td>\n",
              "    </tr>\n",
              "    <tr>\n",
              "      <th>...</th>\n",
              "      <td>...</td>\n",
              "      <td>...</td>\n",
              "      <td>...</td>\n",
              "      <td>...</td>\n",
              "    </tr>\n",
              "    <tr>\n",
              "      <th>495</th>\n",
              "      <td>but it takes a great man to shit on the ceiling</td>\n",
              "      <td>3n0fed</td>\n",
              "      <td>10</td>\n",
              "      <td>Anybody can piss on the floor</td>\n",
              "    </tr>\n",
              "    <tr>\n",
              "      <th>496</th>\n",
              "      <td>resent my inability to let go of my grudges. ^...</td>\n",
              "      <td>4sdc4r</td>\n",
              "      <td>0</td>\n",
              "      <td>I always have and always will...</td>\n",
              "    </tr>\n",
              "    <tr>\n",
              "      <th>497</th>\n",
              "      <td>Oops, wrong sub</td>\n",
              "      <td>36joza</td>\n",
              "      <td>5</td>\n",
              "      <td>TIFU by getting meatball marinara instead of s...</td>\n",
              "    </tr>\n",
              "    <tr>\n",
              "      <th>498</th>\n",
              "      <td>your mom sucks at both</td>\n",
              "      <td>4kz3ri</td>\n",
              "      <td>2</td>\n",
              "      <td>Football is like Sex</td>\n",
              "    </tr>\n",
              "    <tr>\n",
              "      <th>499</th>\n",
              "      <td>A man walks into a bar and hears piano music. ...</td>\n",
              "      <td>29a95h</td>\n",
              "      <td>5</td>\n",
              "      <td>A guy walks into a bar...</td>\n",
              "    </tr>\n",
              "  </tbody>\n",
              "</table>\n",
              "<p>500 rows × 4 columns</p>\n",
              "</div>"
            ],
            "text/plain": [
              "                                                  body      id  score  \\\n",
              "0    He has the lady go to the back of the car to l...  2ojt3l      0   \n",
              "1    If he says he can do something in the blink of...  2e4djx      1   \n",
              "2                                             A pulse.  418cpp     14   \n",
              "3    THEN\\n\\n**Led Zeppelin - Stairway to Heaven**\\...  3cd3oo      0   \n",
              "4                                       then it hit me  2y24uy      5   \n",
              "..                                                 ...     ...    ...   \n",
              "495    but it takes a great man to shit on the ceiling  3n0fed     10   \n",
              "496  resent my inability to let go of my grudges. ^...  4sdc4r      0   \n",
              "497                                    Oops, wrong sub  36joza      5   \n",
              "498                             your mom sucks at both  4kz3ri      2   \n",
              "499  A man walks into a bar and hears piano music. ...  29a95h      5   \n",
              "\n",
              "                                                 title  \n",
              "0    [Blonde Joke] So this guy's helping a blonde f...  \n",
              "1                        NEVER challenge a chinese man  \n",
              "2     One thing you should always look for in a woman.  \n",
              "3                           Song lyrics, then and now.  \n",
              "4       I wondered why the baseball was getting bigger  \n",
              "..                                                 ...  \n",
              "495                      Anybody can piss on the floor  \n",
              "496                   I always have and always will...  \n",
              "497  TIFU by getting meatball marinara instead of s...  \n",
              "498                               Football is like Sex  \n",
              "499                          A guy walks into a bar...  \n",
              "\n",
              "[500 rows x 4 columns]"
            ]
          },
          "execution_count": 80,
          "metadata": {},
          "output_type": "execute_result"
        }
      ],
      "source": [
        "df_shuffled = df.sample(frac=1, random_state=42).reset_index(drop=True)\n",
        "df_shuffled.head(500)"
      ]
    },
    {
      "cell_type": "code",
      "execution_count": null,
      "id": "33dd8f73",
      "metadata": {
        "id": "33dd8f73"
      },
      "outputs": [],
      "source": [
        "# Select 500 rows\n",
        "df_shuffled_500 = df_shuffled.head(500)\n",
        "\n",
        "# Save as JSON\n",
        "df_shuffled_500.to_json('df_shuffled_500.json', orient='records')"
      ]
    },
    {
      "cell_type": "code",
      "execution_count": null,
      "id": "ffb8f77f",
      "metadata": {
        "id": "ffb8f77f"
      },
      "outputs": [],
      "source": [
        "# First Data\n",
        "df_part1 = df_shuffled[:250]\n",
        "\n",
        "# Second Data\n",
        "df_part2 = df_shuffled[250:500]\n",
        "\n",
        "# Save as Xlsx\n",
        "df_part1.to_excel('df_part1.xlsx', index=False)\n",
        "df_part2.to_excel('df_part2.xlsx', index=False)"
      ]
    },
    {
      "cell_type": "code",
      "execution_count": null,
      "id": "571fc70f",
      "metadata": {
        "id": "571fc70f"
      },
      "outputs": [],
      "source": [
        "# Combined Title and Body\n",
        "def combine_title_and_body(row):\n",
        "    return 'Title: ' + row['title'] + '\\n\\n' + \"Body: \" + row['body']\n",
        "df_shuffled['TitleWithBody'] = df_shuffled.apply(combine_title_and_body, axis=1)"
      ]
    },
    {
      "cell_type": "code",
      "execution_count": null,
      "id": "8166a65e",
      "metadata": {
        "id": "8166a65e",
        "outputId": "02295073-8ba8-429a-e95a-b883d236098d"
      },
      "outputs": [
        {
          "data": {
            "text/html": [
              "<div>\n",
              "<style scoped>\n",
              "    .dataframe tbody tr th:only-of-type {\n",
              "        vertical-align: middle;\n",
              "    }\n",
              "\n",
              "    .dataframe tbody tr th {\n",
              "        vertical-align: top;\n",
              "    }\n",
              "\n",
              "    .dataframe thead th {\n",
              "        text-align: right;\n",
              "    }\n",
              "</style>\n",
              "<table border=\"1\" class=\"dataframe\">\n",
              "  <thead>\n",
              "    <tr style=\"text-align: right;\">\n",
              "      <th></th>\n",
              "      <th>body</th>\n",
              "      <th>id</th>\n",
              "      <th>score</th>\n",
              "      <th>title</th>\n",
              "      <th>TitleWithBody</th>\n",
              "    </tr>\n",
              "  </thead>\n",
              "  <tbody>\n",
              "    <tr>\n",
              "      <th>0</th>\n",
              "      <td>He has the lady go to the back of the car to l...</td>\n",
              "      <td>2ojt3l</td>\n",
              "      <td>0</td>\n",
              "      <td>[Blonde Joke] So this guy's helping a blonde f...</td>\n",
              "      <td>Title: [Blonde Joke] So this guy's helping a b...</td>\n",
              "    </tr>\n",
              "    <tr>\n",
              "      <th>1</th>\n",
              "      <td>If he says he can do something in the blink of...</td>\n",
              "      <td>2e4djx</td>\n",
              "      <td>1</td>\n",
              "      <td>NEVER challenge a chinese man</td>\n",
              "      <td>Title: NEVER challenge a chinese man\\n\\nBody: ...</td>\n",
              "    </tr>\n",
              "    <tr>\n",
              "      <th>2</th>\n",
              "      <td>A pulse.</td>\n",
              "      <td>418cpp</td>\n",
              "      <td>14</td>\n",
              "      <td>One thing you should always look for in a woman.</td>\n",
              "      <td>Title: One thing you should always look for in...</td>\n",
              "    </tr>\n",
              "    <tr>\n",
              "      <th>3</th>\n",
              "      <td>THEN\\n\\n**Led Zeppelin - Stairway to Heaven**\\...</td>\n",
              "      <td>3cd3oo</td>\n",
              "      <td>0</td>\n",
              "      <td>Song lyrics, then and now.</td>\n",
              "      <td>Title: Song lyrics, then and now.\\n\\nBody: THE...</td>\n",
              "    </tr>\n",
              "    <tr>\n",
              "      <th>4</th>\n",
              "      <td>then it hit me</td>\n",
              "      <td>2y24uy</td>\n",
              "      <td>5</td>\n",
              "      <td>I wondered why the baseball was getting bigger</td>\n",
              "      <td>Title: I wondered why the baseball was getting...</td>\n",
              "    </tr>\n",
              "    <tr>\n",
              "      <th>...</th>\n",
              "      <td>...</td>\n",
              "      <td>...</td>\n",
              "      <td>...</td>\n",
              "      <td>...</td>\n",
              "      <td>...</td>\n",
              "    </tr>\n",
              "    <tr>\n",
              "      <th>194548</th>\n",
              "      <td>Baseball; he's a pitcher.</td>\n",
              "      <td>38zqwe</td>\n",
              "      <td>19</td>\n",
              "      <td>What sport does the kool-aid man play?</td>\n",
              "      <td>Title: What sport does the kool-aid man play?\\...</td>\n",
              "    </tr>\n",
              "    <tr>\n",
              "      <th>194549</th>\n",
              "      <td>I cannot breath. This only works because I am ...</td>\n",
              "      <td>3ixurb</td>\n",
              "      <td>0</td>\n",
              "      <td>Gasps</td>\n",
              "      <td>Title: Gasps\\n\\nBody: I cannot breath. This on...</td>\n",
              "    </tr>\n",
              "    <tr>\n",
              "      <th>194550</th>\n",
              "      <td>Bear walks in a bar. Bartender ask \"what can I...</td>\n",
              "      <td>31q7yv</td>\n",
              "      <td>0</td>\n",
              "      <td>Bear Walks in a Bar</td>\n",
              "      <td>Title: Bear Walks in a Bar\\n\\nBody: Bear walks...</td>\n",
              "    </tr>\n",
              "    <tr>\n",
              "      <th>194551</th>\n",
              "      <td>A guy is fucking his girlfriend and asks her i...</td>\n",
              "      <td>2szmk9</td>\n",
              "      <td>0</td>\n",
              "      <td>Broadening sexual horizons</td>\n",
              "      <td>Title: Broadening sexual horizons\\n\\nBody: A g...</td>\n",
              "    </tr>\n",
              "    <tr>\n",
              "      <th>194552</th>\n",
              "      <td>**None**. They operate in the **dark**.</td>\n",
              "      <td>37fzdv</td>\n",
              "      <td>15</td>\n",
              "      <td>How many FIFA officials does it take to change...</td>\n",
              "      <td>Title: How many FIFA officials does it take to...</td>\n",
              "    </tr>\n",
              "  </tbody>\n",
              "</table>\n",
              "<p>194553 rows × 5 columns</p>\n",
              "</div>"
            ],
            "text/plain": [
              "                                                     body      id  score  \\\n",
              "0       He has the lady go to the back of the car to l...  2ojt3l      0   \n",
              "1       If he says he can do something in the blink of...  2e4djx      1   \n",
              "2                                                A pulse.  418cpp     14   \n",
              "3       THEN\\n\\n**Led Zeppelin - Stairway to Heaven**\\...  3cd3oo      0   \n",
              "4                                          then it hit me  2y24uy      5   \n",
              "...                                                   ...     ...    ...   \n",
              "194548                          Baseball; he's a pitcher.  38zqwe     19   \n",
              "194549  I cannot breath. This only works because I am ...  3ixurb      0   \n",
              "194550  Bear walks in a bar. Bartender ask \"what can I...  31q7yv      0   \n",
              "194551  A guy is fucking his girlfriend and asks her i...  2szmk9      0   \n",
              "194552            **None**. They operate in the **dark**.  37fzdv     15   \n",
              "\n",
              "                                                    title  \\\n",
              "0       [Blonde Joke] So this guy's helping a blonde f...   \n",
              "1                           NEVER challenge a chinese man   \n",
              "2        One thing you should always look for in a woman.   \n",
              "3                              Song lyrics, then and now.   \n",
              "4          I wondered why the baseball was getting bigger   \n",
              "...                                                   ...   \n",
              "194548             What sport does the kool-aid man play?   \n",
              "194549                                              Gasps   \n",
              "194550                                Bear Walks in a Bar   \n",
              "194551                         Broadening sexual horizons   \n",
              "194552  How many FIFA officials does it take to change...   \n",
              "\n",
              "                                            TitleWithBody  \n",
              "0       Title: [Blonde Joke] So this guy's helping a b...  \n",
              "1       Title: NEVER challenge a chinese man\\n\\nBody: ...  \n",
              "2       Title: One thing you should always look for in...  \n",
              "3       Title: Song lyrics, then and now.\\n\\nBody: THE...  \n",
              "4       Title: I wondered why the baseball was getting...  \n",
              "...                                                   ...  \n",
              "194548  Title: What sport does the kool-aid man play?\\...  \n",
              "194549  Title: Gasps\\n\\nBody: I cannot breath. This on...  \n",
              "194550  Title: Bear Walks in a Bar\\n\\nBody: Bear walks...  \n",
              "194551  Title: Broadening sexual horizons\\n\\nBody: A g...  \n",
              "194552  Title: How many FIFA officials does it take to...  \n",
              "\n",
              "[194553 rows x 5 columns]"
            ]
          },
          "execution_count": 87,
          "metadata": {},
          "output_type": "execute_result"
        }
      ],
      "source": [
        "df_shuffled"
      ]
    },
    {
      "cell_type": "code",
      "execution_count": null,
      "id": "4bba9c48",
      "metadata": {
        "id": "4bba9c48",
        "outputId": "455d0f23-7691-4350-c74b-5d386f858665"
      },
      "outputs": [
        {
          "name": "stdout",
          "output_type": "stream",
          "text": [
            "501                                                        \n",
            "502                                         By using force.\n",
            "503       Apparently my local radio station had an annou...\n",
            "504                                     Hi honey, I'm home.\n",
            "505                        Leonardo DiCaprio's Oscar shelf.\n",
            "                                ...                        \n",
            "194548                            Baseball; he's a pitcher.\n",
            "194549    I cannot breath. This only works because I am ...\n",
            "194550    Bear walks in a bar. Bartender ask \"what can I...\n",
            "194551    A guy is fucking his girlfriend and asks her i...\n",
            "194552              **None**. They operate in the **dark**.\n",
            "Name: body, Length: 194052, dtype: object\n"
          ]
        }
      ],
      "source": [
        "print(df_shuffled['body'][501:])"
      ]
    },
    {
      "cell_type": "code",
      "execution_count": null,
      "id": "4848e10b",
      "metadata": {
        "id": "4848e10b"
      },
      "outputs": [],
      "source": [
        "df_part1 = pd.read_excel('df_part1_exploration_original.xlsx')\n",
        "df_part2 = pd.read_excel('df_part2_evaluation_original.xlsx')"
      ]
    },
    {
      "cell_type": "code",
      "execution_count": null,
      "id": "c1fc74d4",
      "metadata": {
        "id": "c1fc74d4",
        "outputId": "1feda616-87a1-4965-b9ca-966116b5466b"
      },
      "outputs": [
        {
          "name": "stdout",
          "output_type": "stream",
          "text": [
            "Combined file saved successfully.\n"
          ]
        }
      ],
      "source": [
        "# Combined two datasets\n",
        "df_combined = pd.concat([df_part1, df_part2], ignore_index=True)\n",
        "df_combined.to_excel('combined_exploration_original.xlsx', index=False)\n",
        "print(\"Combined file saved successfully.\")"
      ]
    },
    {
      "cell_type": "code",
      "execution_count": null,
      "id": "c703b4c6",
      "metadata": {
        "id": "c703b4c6",
        "outputId": "4ce71e64-3f41-4379-bace-254acf5e6710"
      },
      "outputs": [
        {
          "name": "stdout",
          "output_type": "stream",
          "text": [
            "DataFrame successfully saved as Excel file.\n"
          ]
        }
      ],
      "source": [
        "# df_combined를 엑셀 파일로 저장\n",
        "df_combined.to_excel('combined.xlsx', index=False)\n",
        "\n",
        "# 파일이 성공적으로 저장되었음을 출력\n",
        "print(\"DataFrame successfully saved as Excel file.\")"
      ]
    },
    {
      "cell_type": "code",
      "execution_count": null,
      "id": "484043fd",
      "metadata": {
        "id": "484043fd"
      },
      "outputs": [],
      "source": []
    }
  ],
  "metadata": {
    "kernelspec": {
      "display_name": "Python 3 (ipykernel)",
      "language": "python",
      "name": "python3"
    },
    "language_info": {
      "codemirror_mode": {
        "name": "ipython",
        "version": 3
      },
      "file_extension": ".py",
      "mimetype": "text/x-python",
      "name": "python",
      "nbconvert_exporter": "python",
      "pygments_lexer": "ipython3",
      "version": "3.8.13"
    },
    "colab": {
      "provenance": []
    }
  },
  "nbformat": 4,
  "nbformat_minor": 5
}